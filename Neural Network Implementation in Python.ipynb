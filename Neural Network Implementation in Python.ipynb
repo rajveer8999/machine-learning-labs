{
 "cells": [
  {
   "cell_type": "code",
   "execution_count": 1,
   "id": "4fd19068",
   "metadata": {},
   "outputs": [],
   "source": [
    "import numpy as np"
   ]
  },
  {
   "cell_type": "code",
   "execution_count": 2,
   "id": "af74fb97",
   "metadata": {},
   "outputs": [],
   "source": [
    "# define X\n",
    "X = np.array([2,-4])\n",
    "# definne weights for 3 neurons in first hidden layer\n",
    "W = np.array([[2,4,-1],[-1, 2, 3]])\n",
    "# define b parameter for 3 neurons in first hidden layer\n",
    "b = np.array([-1,1,2])"
   ]
  },
  {
   "cell_type": "code",
   "execution_count": 15,
   "id": "ac73582e",
   "metadata": {},
   "outputs": [],
   "source": [
    "# define dense function to get activations for next layer\n",
    "def dense (a_in,W,b):\n",
    "    #get no. of neurons in the layer\n",
    "    no_of_neurons = b.shape[0]\n",
    "    #define a_out that will store activation values for all neurons\n",
    "    a_out = np.zeros(no_of_neurons)\n",
    "    for i in range(no_of_neurons):\n",
    "        w=W[:,i]\n",
    "        z = np.dot(w,a_in)+b[i]\n",
    "        a_out[i] = g(z)\n",
    "    return a_out    "
   ]
  },
  {
   "cell_type": "code",
   "execution_count": 19,
   "id": "fa16fece",
   "metadata": {},
   "outputs": [],
   "source": [
    "# define sigmoid function \n",
    "def g(z):\n",
    "    return (1/(1+np.exp(-z)))"
   ]
  },
  {
   "cell_type": "code",
   "execution_count": 12,
   "id": "9b2c17db",
   "metadata": {},
   "outputs": [],
   "source": [
    "#call dense function multiple time for all layers \n",
    "def sequential (X):\n",
    "    a1 = dense(X,W,b)\n",
    "    #a2 = dense(a1,W2,b2)\n",
    "    #\n",
    "    #\n",
    "    f_x = a1\n",
    "    return f_x"
   ]
  },
  {
   "cell_type": "code",
   "execution_count": 20,
   "id": "42e098c4",
   "metadata": {},
   "outputs": [
    {
     "name": "stdout",
     "output_type": "stream",
     "text": [
      "[9.99088949e-01 7.31058579e-01 6.14417460e-06]\n"
     ]
    }
   ],
   "source": [
    "p = sequential(X)\n",
    "print (p)"
   ]
  },
  {
   "cell_type": "code",
   "execution_count": null,
   "id": "81e24a31",
   "metadata": {},
   "outputs": [],
   "source": []
  }
 ],
 "metadata": {
  "kernelspec": {
   "display_name": "Python 3 (ipykernel)",
   "language": "python",
   "name": "python3"
  },
  "language_info": {
   "codemirror_mode": {
    "name": "ipython",
    "version": 3
   },
   "file_extension": ".py",
   "mimetype": "text/x-python",
   "name": "python",
   "nbconvert_exporter": "python",
   "pygments_lexer": "ipython3",
   "version": "3.11.5"
  }
 },
 "nbformat": 4,
 "nbformat_minor": 5
}
