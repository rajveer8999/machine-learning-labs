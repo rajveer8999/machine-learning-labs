{
 "cells": [
  {
   "cell_type": "code",
   "execution_count": 1,
   "id": "64d32a22",
   "metadata": {},
   "outputs": [],
   "source": [
    "#Logistic regression implementation\n",
    "##outline\n",
    "#import libraries\n",
    "#read data\n",
    "#see x_train, y_train\n",
    "#check dimensions \n",
    "#visualize data\n",
    "#get cost\n",
    "#get gradient\n",
    "#get parameters using gradient descent\n",
    "#run gradient descent to actually get params\n",
    "#get predictions"
   ]
  },
  {
   "cell_type": "code",
   "execution_count": 5,
   "id": "c3dd23d1",
   "metadata": {},
   "outputs": [],
   "source": [
    "import numpy as np\n",
    "import matplotlib.pyplot as plt\n",
    "import math\n",
    "%matplotlib inline"
   ]
  },
  {
   "cell_type": "code",
   "execution_count": 4,
   "id": "865c9510",
   "metadata": {},
   "outputs": [],
   "source": [
    "#x_train, y_train = load_data(\"path\")"
   ]
  },
  {
   "cell_type": "code",
   "execution_count": null,
   "id": "88647d09",
   "metadata": {},
   "outputs": [],
   "source": [
    "print(x_train[0:5])\n",
    "print(x_train.shape)\n",
    "print(y_train[0:5])\n",
    "print(y_train.shape)"
   ]
  },
  {
   "cell_type": "code",
   "execution_count": null,
   "id": "f10e4ced",
   "metadata": {},
   "outputs": [],
   "source": [
    "###check it plt.scatter(x_train, y_train, pos_label = \"one variable\", neg_label = \"other variable\")\n",
    "plt.ylabel(\"one varible\")\n",
    "plt.xlabel(\"other variable\")\n",
    "plt.title(\"title\")\n",
    "plt.legend(loc = \"upper right\")\n",
    "plt.show()"
   ]
  },
  {
   "cell_type": "code",
   "execution_count": null,
   "id": "9ed7362d",
   "metadata": {},
   "outputs": [],
   "source": [
    "def sigmoid(z):\n",
    "    return 1/(1+np.exp(-z))"
   ]
  },
  {
   "cell_type": "code",
   "execution_count": null,
   "id": "f1e626d0",
   "metadata": {},
   "outputs": [],
   "source": [
    "def compute_cost(x,y,w,b):\n",
    "    #J=(1/m)*summation(loss_function)\n",
    "    #loss_function = -ylog(fx)-(1-y)log(1-fx)\n",
    "    #fx=1/(1+e^(-z))\n",
    "    #z=wx+b\n",
    "    m, n = x.shape\n",
    "    total_cost = 0\n",
    "    sum_cost = 0\n",
    "    for i in range(m):\n",
    "        z = 0\n",
    "        for j in range(n):\n",
    "            z+=w[j]*x[i,j]\n",
    "            \n",
    "        z=z+b\n",
    "        fx = sigmoid(z)\n",
    "        loss = -y[i]*math.log(fx) - (1-y[i])*math.log(1-fx)\n",
    "        sum_cost = sum_cost + loss\n",
    "    total_cost = sum_cost/m\n",
    "    return total_cost"
   ]
  },
  {
   "cell_type": "code",
   "execution_count": null,
   "id": "614500a5",
   "metadata": {},
   "outputs": [],
   "source": [
    "def compute_gradient(x,y,w,b):\n",
    "    #dj/dw = (1/m)*summation(fx-y)fx\n",
    "    #dj/db = (1/m)*summation(fx-y)\n",
    "    #fx=1/(1+e^(-z))\n",
    "    #z=wx+b\n",
    "    m, n = x.shape\n",
    "    dj_dw = np.zeros(w.shape)\n",
    "    dj_db = 0\n",
    "    for i in range(m):\n",
    "        z = 0\n",
    "        for j in range(n):\n",
    "            z+=w[j]*x[i,j]\n",
    "        z=z+b\n",
    "        fx=sigmoid(z)\n",
    "        dj_db_i = (fx-y[i])\n",
    "        dj_db += dj_db_i\n",
    "        \n",
    "        for j in range(n):\n",
    "            dj_dw[j]+=(fx-y[i])*x[i,j]\n",
    "       \n",
    "        \n",
    "    return dj_dw/m, dj_db/m   "
   ]
  },
  {
   "cell_type": "code",
   "execution_count": null,
   "id": "5aafb80f",
   "metadata": {},
   "outputs": [],
   "source": [
    "# w= w-alpha(dj_dw)\n",
    "# b=b-alpha(dj_db)\n",
    "def gradient_descent(x,y,w_in,b_in,alpha,gradient_function,cost_function, num_iters):\n",
    "    w = w_in\n",
    "    b = b_in\n",
    "    J_history = []\n",
    "    w_history = []\n",
    "    for i in range(num_iters):\n",
    "        dj_dw, dj_db = gradient_function(x,y,w,b)\n",
    "        w = w - alpha(dj_dw)\n",
    "        b = b - alpha(dj_db)\n",
    "        #save cost in each iterations to plot cost vs number of iterations \n",
    "        if i<10000:\n",
    "            cost = cost_function(x,y,w,b)\n",
    "            J_history.append(cost)\n",
    "               \n",
    "        #print cost at every 10iterations to get some idea of things are going\n",
    "        if i% math.ceil(num_iters/10) == 0 : or i == (num_iters-1):\n",
    "                w_history.append(w)\n",
    "                print(f\"Iteration {i:4} : cost {float(J_history[-1]) : 8.2f}\")\n",
    "            \n",
    "    return w,b,J_history,w_history\n",
    "\n",
    "    "
   ]
  },
  {
   "cell_type": "code",
   "execution_count": null,
   "id": "8398992a",
   "metadata": {},
   "outputs": [],
   "source": [
    "#now let's run the gradient descent and get parameters\n",
    "np.random.seed(1)\n",
    "initial_w = 0.01*(np.random.rand(2)-0.5)\n",
    "initial_b = -8\n",
    "iterations = 10000\n",
    "alpha = 0.001\n",
    "w,b,_,_ = gradient_descent(x_train,y_train,initial_w,initial_b,alpha,compute_gradient,compute_cost,iterations)\n",
    "\n",
    "print(\"w,b by gradient descent \", w, b)"
   ]
  },
  {
   "cell_type": "code",
   "execution_count": null,
   "id": "2308a52c",
   "metadata": {},
   "outputs": [],
   "source": [
    "def predict(x,w,b):\n",
    "    m,n = x.shape\n",
    "    p = np.zeros(m)\n",
    "    \n",
    "    for i in range(m):\n",
    "        z = 0\n",
    "        for j in range(n):\n",
    "            z+=w[j]*x[i,j]\n",
    "        z = z+b\n",
    "        \n",
    "        fx = sigmoid(z)\n",
    "        \n",
    "        p[i] = fx >= 0.5\n",
    "    return p    "
   ]
  },
  {
   "cell_type": "code",
   "execution_count": null,
   "id": "f8f533e4",
   "metadata": {},
   "outputs": [],
   "source": [
    "p = predict(x_train,w,b)\n",
    "print(\"Training accuracy :%f\" %(np.mean(p == y_train)*100))"
   ]
  },
  {
   "cell_type": "code",
   "execution_count": null,
   "id": "5e1ca7b9",
   "metadata": {},
   "outputs": [],
   "source": []
  },
  {
   "cell_type": "code",
   "execution_count": null,
   "id": "28b1fbbf",
   "metadata": {},
   "outputs": [],
   "source": []
  }
 ],
 "metadata": {
  "kernelspec": {
   "display_name": "Python 3 (ipykernel)",
   "language": "python",
   "name": "python3"
  },
  "language_info": {
   "codemirror_mode": {
    "name": "ipython",
    "version": 3
   },
   "file_extension": ".py",
   "mimetype": "text/x-python",
   "name": "python",
   "nbconvert_exporter": "python",
   "pygments_lexer": "ipython3",
   "version": "3.11.5"
  }
 },
 "nbformat": 4,
 "nbformat_minor": 5
}
